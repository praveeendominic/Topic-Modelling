{
  "nbformat": 4,
  "nbformat_minor": 0,
  "metadata": {
    "colab": {
      "name": "Topic Modelling.ipynb",
      "provenance": [],
      "collapsed_sections": []
    },
    "kernelspec": {
      "name": "python3",
      "display_name": "Python 3"
    },
    "language_info": {
      "name": "python"
    }
  },
  "cells": [
    {
      "cell_type": "code",
      "execution_count": 2,
      "metadata": {
        "colab": {
          "base_uri": "https://localhost:8080/"
        },
        "id": "6YKgHGebf_Pr",
        "outputId": "fd239148-9dea-46d9-84d7-38ab546ad9f0"
      },
      "outputs": [
        {
          "output_type": "stream",
          "name": "stdout",
          "text": [
            "Looking in indexes: https://pypi.org/simple, https://us-python.pkg.dev/colab-wheels/public/simple/\n",
            "Collecting ktrain\n",
            "  Downloading ktrain-0.31.2-py3-none-any.whl (25.3 MB)\n",
            "\u001b[K     |████████████████████████████████| 25.3 MB 1.6 MB/s \n",
            "\u001b[?25hRequirement already satisfied: joblib in /usr/local/lib/python3.7/dist-packages (from ktrain) (1.1.0)\n",
            "Collecting keras-bert>=0.86.0\n",
            "  Downloading keras-bert-0.89.0.tar.gz (25 kB)\n",
            "Collecting scikit-learn==0.24.2\n",
            "  Downloading scikit_learn-0.24.2-cp37-cp37m-manylinux2010_x86_64.whl (22.3 MB)\n",
            "\u001b[K     |████████████████████████████████| 22.3 MB 1.6 MB/s \n",
            "\u001b[?25hCollecting cchardet\n",
            "  Downloading cchardet-2.1.7-cp37-cp37m-manylinux2010_x86_64.whl (263 kB)\n",
            "\u001b[K     |████████████████████████████████| 263 kB 57.6 MB/s \n",
            "\u001b[?25hCollecting syntok==1.3.3\n",
            "  Downloading syntok-1.3.3-py3-none-any.whl (22 kB)\n",
            "Requirement already satisfied: packaging in /usr/local/lib/python3.7/dist-packages (from ktrain) (21.3)\n",
            "Requirement already satisfied: chardet in /usr/local/lib/python3.7/dist-packages (from ktrain) (3.0.4)\n",
            "Collecting langdetect\n",
            "  Downloading langdetect-1.0.9.tar.gz (981 kB)\n",
            "\u001b[K     |████████████████████████████████| 981 kB 62.9 MB/s \n",
            "\u001b[?25hRequirement already satisfied: fastprogress>=0.1.21 in /usr/local/lib/python3.7/dist-packages (from ktrain) (1.0.2)\n",
            "Requirement already satisfied: requests in /usr/local/lib/python3.7/dist-packages (from ktrain) (2.23.0)\n",
            "Requirement already satisfied: matplotlib>=3.0.0 in /usr/local/lib/python3.7/dist-packages (from ktrain) (3.2.2)\n",
            "Collecting transformers==4.10.3\n",
            "  Downloading transformers-4.10.3-py3-none-any.whl (2.8 MB)\n",
            "\u001b[K     |████████████████████████████████| 2.8 MB 30.5 MB/s \n",
            "\u001b[?25hRequirement already satisfied: pandas>=1.0.1 in /usr/local/lib/python3.7/dist-packages (from ktrain) (1.3.5)\n",
            "Collecting sentencepiece\n",
            "  Downloading sentencepiece-0.1.96-cp37-cp37m-manylinux_2_17_x86_64.manylinux2014_x86_64.whl (1.2 MB)\n",
            "\u001b[K     |████████████████████████████████| 1.2 MB 55.8 MB/s \n",
            "\u001b[?25hCollecting whoosh\n",
            "  Downloading Whoosh-2.7.4-py2.py3-none-any.whl (468 kB)\n",
            "\u001b[K     |████████████████████████████████| 468 kB 47.7 MB/s \n",
            "\u001b[?25hRequirement already satisfied: jieba in /usr/local/lib/python3.7/dist-packages (from ktrain) (0.42.1)\n",
            "Requirement already satisfied: scipy>=0.19.1 in /usr/local/lib/python3.7/dist-packages (from scikit-learn==0.24.2->ktrain) (1.4.1)\n",
            "Requirement already satisfied: threadpoolctl>=2.0.0 in /usr/local/lib/python3.7/dist-packages (from scikit-learn==0.24.2->ktrain) (3.1.0)\n",
            "Requirement already satisfied: numpy>=1.13.3 in /usr/local/lib/python3.7/dist-packages (from scikit-learn==0.24.2->ktrain) (1.21.6)\n",
            "Requirement already satisfied: regex in /usr/local/lib/python3.7/dist-packages (from syntok==1.3.3->ktrain) (2022.6.2)\n",
            "Requirement already satisfied: filelock in /usr/local/lib/python3.7/dist-packages (from transformers==4.10.3->ktrain) (3.7.1)\n",
            "Collecting huggingface-hub>=0.0.12\n",
            "  Downloading huggingface_hub-0.8.1-py3-none-any.whl (101 kB)\n",
            "\u001b[K     |████████████████████████████████| 101 kB 8.4 MB/s \n",
            "\u001b[?25hRequirement already satisfied: importlib-metadata in /usr/local/lib/python3.7/dist-packages (from transformers==4.10.3->ktrain) (4.11.4)\n",
            "Requirement already satisfied: tqdm>=4.27 in /usr/local/lib/python3.7/dist-packages (from transformers==4.10.3->ktrain) (4.64.0)\n",
            "Collecting sacremoses\n",
            "  Downloading sacremoses-0.0.53.tar.gz (880 kB)\n",
            "\u001b[K     |████████████████████████████████| 880 kB 45.8 MB/s \n",
            "\u001b[?25hCollecting tokenizers<0.11,>=0.10.1\n",
            "  Downloading tokenizers-0.10.3-cp37-cp37m-manylinux_2_5_x86_64.manylinux1_x86_64.manylinux_2_12_x86_64.manylinux2010_x86_64.whl (3.3 MB)\n",
            "\u001b[K     |████████████████████████████████| 3.3 MB 38.0 MB/s \n",
            "\u001b[?25hCollecting pyyaml>=5.1\n",
            "  Downloading PyYAML-6.0-cp37-cp37m-manylinux_2_5_x86_64.manylinux1_x86_64.manylinux_2_12_x86_64.manylinux2010_x86_64.whl (596 kB)\n",
            "\u001b[K     |████████████████████████████████| 596 kB 51.5 MB/s \n",
            "\u001b[?25hRequirement already satisfied: typing-extensions>=3.7.4.3 in /usr/local/lib/python3.7/dist-packages (from huggingface-hub>=0.0.12->transformers==4.10.3->ktrain) (4.1.1)\n",
            "Collecting keras-transformer==0.40.0\n",
            "  Downloading keras-transformer-0.40.0.tar.gz (9.7 kB)\n",
            "Collecting keras-pos-embd==0.13.0\n",
            "  Downloading keras-pos-embd-0.13.0.tar.gz (5.6 kB)\n",
            "Collecting keras-multi-head==0.29.0\n",
            "  Downloading keras-multi-head-0.29.0.tar.gz (13 kB)\n",
            "Collecting keras-layer-normalization==0.16.0\n",
            "  Downloading keras-layer-normalization-0.16.0.tar.gz (3.9 kB)\n",
            "Collecting keras-position-wise-feed-forward==0.8.0\n",
            "  Downloading keras-position-wise-feed-forward-0.8.0.tar.gz (4.1 kB)\n",
            "Collecting keras-embed-sim==0.10.0\n",
            "  Downloading keras-embed-sim-0.10.0.tar.gz (3.6 kB)\n",
            "Collecting keras-self-attention==0.51.0\n",
            "  Downloading keras-self-attention-0.51.0.tar.gz (11 kB)\n",
            "Requirement already satisfied: kiwisolver>=1.0.1 in /usr/local/lib/python3.7/dist-packages (from matplotlib>=3.0.0->ktrain) (1.4.3)\n",
            "Requirement already satisfied: python-dateutil>=2.1 in /usr/local/lib/python3.7/dist-packages (from matplotlib>=3.0.0->ktrain) (2.8.2)\n",
            "Requirement already satisfied: pyparsing!=2.0.4,!=2.1.2,!=2.1.6,>=2.0.1 in /usr/local/lib/python3.7/dist-packages (from matplotlib>=3.0.0->ktrain) (3.0.9)\n",
            "Requirement already satisfied: cycler>=0.10 in /usr/local/lib/python3.7/dist-packages (from matplotlib>=3.0.0->ktrain) (0.11.0)\n",
            "Requirement already satisfied: pytz>=2017.3 in /usr/local/lib/python3.7/dist-packages (from pandas>=1.0.1->ktrain) (2022.1)\n",
            "Requirement already satisfied: six>=1.5 in /usr/local/lib/python3.7/dist-packages (from python-dateutil>=2.1->matplotlib>=3.0.0->ktrain) (1.15.0)\n",
            "Requirement already satisfied: zipp>=0.5 in /usr/local/lib/python3.7/dist-packages (from importlib-metadata->transformers==4.10.3->ktrain) (3.8.0)\n",
            "Requirement already satisfied: idna<3,>=2.5 in /usr/local/lib/python3.7/dist-packages (from requests->ktrain) (2.10)\n",
            "Requirement already satisfied: certifi>=2017.4.17 in /usr/local/lib/python3.7/dist-packages (from requests->ktrain) (2022.6.15)\n",
            "Requirement already satisfied: urllib3!=1.25.0,!=1.25.1,<1.26,>=1.21.1 in /usr/local/lib/python3.7/dist-packages (from requests->ktrain) (1.24.3)\n",
            "Requirement already satisfied: click in /usr/local/lib/python3.7/dist-packages (from sacremoses->transformers==4.10.3->ktrain) (7.1.2)\n",
            "Building wheels for collected packages: keras-bert, keras-transformer, keras-embed-sim, keras-layer-normalization, keras-multi-head, keras-pos-embd, keras-position-wise-feed-forward, keras-self-attention, langdetect, sacremoses\n",
            "  Building wheel for keras-bert (setup.py) ... \u001b[?25l\u001b[?25hdone\n",
            "  Created wheel for keras-bert: filename=keras_bert-0.89.0-py3-none-any.whl size=33517 sha256=72835841cc83a28cdbe73ecee939e081cfdbcc9e0a49d7f7b43ea3899c846095\n",
            "  Stored in directory: /root/.cache/pip/wheels/a4/e8/45/842b3a39831261aef9154b907eacbc4ac99499a99ae829b06f\n",
            "  Building wheel for keras-transformer (setup.py) ... \u001b[?25l\u001b[?25hdone\n",
            "  Created wheel for keras-transformer: filename=keras_transformer-0.40.0-py3-none-any.whl size=12305 sha256=05cb148d9825a4e730f952e380e1a7db6deda416dc9c6e968ccf61caa32823f7\n",
            "  Stored in directory: /root/.cache/pip/wheels/46/68/26/692ed21edd832833c3b0a0e21615bcacd99ca458b3f9ed571f\n",
            "  Building wheel for keras-embed-sim (setup.py) ... \u001b[?25l\u001b[?25hdone\n",
            "  Created wheel for keras-embed-sim: filename=keras_embed_sim-0.10.0-py3-none-any.whl size=3960 sha256=4c1fb74696083a78ae78d2b700ac10cb607176caa4d836b0aa76c656e9b5d1a5\n",
            "  Stored in directory: /root/.cache/pip/wheels/81/67/b5/d847588d075895281e1cf5590f819bd4cf076a554872268bd5\n",
            "  Building wheel for keras-layer-normalization (setup.py) ... \u001b[?25l\u001b[?25hdone\n",
            "  Created wheel for keras-layer-normalization: filename=keras_layer_normalization-0.16.0-py3-none-any.whl size=4668 sha256=a68983ab40fb4c20fc5c8d2b9de31c2112a926cee4ef94d6b22f84c289ce0483\n",
            "  Stored in directory: /root/.cache/pip/wheels/85/5d/1c/2e619f594f69fbcf8bc20943b27d414871c409be053994813e\n",
            "  Building wheel for keras-multi-head (setup.py) ... \u001b[?25l\u001b[?25hdone\n",
            "  Created wheel for keras-multi-head: filename=keras_multi_head-0.29.0-py3-none-any.whl size=14993 sha256=85cad17dfc935d84eb4e4c3e5607b01dbd98ec48083e5fa3290f37d2dbcc5876\n",
            "  Stored in directory: /root/.cache/pip/wheels/86/aa/3c/9d15d24005179dae08ff291ce99c754b296347817d076fd9fb\n",
            "  Building wheel for keras-pos-embd (setup.py) ... \u001b[?25l\u001b[?25hdone\n",
            "  Created wheel for keras-pos-embd: filename=keras_pos_embd-0.13.0-py3-none-any.whl size=6962 sha256=d87e5cc67421d267c203e780479b30e497f6033aef42c49a74b51d2476f198a3\n",
            "  Stored in directory: /root/.cache/pip/wheels/8d/c1/a0/dc44fcf68c857b7ff6be9a97e675e5adf51022eff1169b042f\n",
            "  Building wheel for keras-position-wise-feed-forward (setup.py) ... \u001b[?25l\u001b[?25hdone\n",
            "  Created wheel for keras-position-wise-feed-forward: filename=keras_position_wise_feed_forward-0.8.0-py3-none-any.whl size=4983 sha256=aba4840bb737158f4eb3a402f952c7f46534d051b8b97350d9ecff73f4b959f2\n",
            "  Stored in directory: /root/.cache/pip/wheels/c2/75/6f/d42f6e051506f442daeba53ff1e2d21a5f20ef8c411610f2bb\n",
            "  Building wheel for keras-self-attention (setup.py) ... \u001b[?25l\u001b[?25hdone\n",
            "  Created wheel for keras-self-attention: filename=keras_self_attention-0.51.0-py3-none-any.whl size=18912 sha256=65739ba2b390aaf523813b19ff3e807c4bfd3a382cd25b70817ca6022a1a0f5c\n",
            "  Stored in directory: /root/.cache/pip/wheels/95/b1/a8/5ee00cc137940b2f6fa198212e8f45d813d0e0d9c3a04035a3\n",
            "  Building wheel for langdetect (setup.py) ... \u001b[?25l\u001b[?25hdone\n",
            "  Created wheel for langdetect: filename=langdetect-1.0.9-py3-none-any.whl size=993242 sha256=d89dc45f62f9880730f7bfbcc7aeb788a9cd397da2eac8d87c8bf66b449bd63c\n",
            "  Stored in directory: /root/.cache/pip/wheels/c5/96/8a/f90c59ed25d75e50a8c10a1b1c2d4c402e4dacfa87f3aff36a\n",
            "  Building wheel for sacremoses (setup.py) ... \u001b[?25l\u001b[?25hdone\n",
            "  Created wheel for sacremoses: filename=sacremoses-0.0.53-py3-none-any.whl size=895260 sha256=d81b0154d462c58dd30e1f6ab795791139b37464e6f715686c29c3dcde5e1277\n",
            "  Stored in directory: /root/.cache/pip/wheels/87/39/dd/a83eeef36d0bf98e7a4d1933a4ad2d660295a40613079bafc9\n",
            "Successfully built keras-bert keras-transformer keras-embed-sim keras-layer-normalization keras-multi-head keras-pos-embd keras-position-wise-feed-forward keras-self-attention langdetect sacremoses\n",
            "Installing collected packages: keras-self-attention, pyyaml, keras-position-wise-feed-forward, keras-pos-embd, keras-multi-head, keras-layer-normalization, keras-embed-sim, tokenizers, sacremoses, keras-transformer, huggingface-hub, whoosh, transformers, syntok, sentencepiece, scikit-learn, langdetect, keras-bert, cchardet, ktrain\n",
            "  Attempting uninstall: pyyaml\n",
            "    Found existing installation: PyYAML 3.13\n",
            "    Uninstalling PyYAML-3.13:\n",
            "      Successfully uninstalled PyYAML-3.13\n",
            "  Attempting uninstall: scikit-learn\n",
            "    Found existing installation: scikit-learn 1.0.2\n",
            "    Uninstalling scikit-learn-1.0.2:\n",
            "      Successfully uninstalled scikit-learn-1.0.2\n",
            "\u001b[31mERROR: pip's dependency resolver does not currently take into account all the packages that are installed. This behaviour is the source of the following dependency conflicts.\n",
            "yellowbrick 1.4 requires scikit-learn>=1.0.0, but you have scikit-learn 0.24.2 which is incompatible.\u001b[0m\n",
            "Successfully installed cchardet-2.1.7 huggingface-hub-0.8.1 keras-bert-0.89.0 keras-embed-sim-0.10.0 keras-layer-normalization-0.16.0 keras-multi-head-0.29.0 keras-pos-embd-0.13.0 keras-position-wise-feed-forward-0.8.0 keras-self-attention-0.51.0 keras-transformer-0.40.0 ktrain-0.31.2 langdetect-1.0.9 pyyaml-6.0 sacremoses-0.0.53 scikit-learn-0.24.2 sentencepiece-0.1.96 syntok-1.3.3 tokenizers-0.10.3 transformers-4.10.3 whoosh-2.7.4\n"
          ]
        }
      ],
      "source": [
        "#Topic Modelling-Praveen Dominic\n",
        "pip install ktrain"
      ]
    },
    {
      "cell_type": "code",
      "source": [
        "import os\n",
        "import numpy as np\n",
        "import pandas as pd\n",
        "import ktrain\n",
        "from sklearn.datasets import fetch_20newsgroups"
      ],
      "metadata": {
        "id": "7AQrAFwigH3C"
      },
      "execution_count": 3,
      "outputs": []
    },
    {
      "cell_type": "code",
      "source": [
        "remove = ('headers', 'footers', 'quotes')\n",
        "train = fetch_20newsgroups(subset='train', remove=remove)\n",
        "test = fetch_20newsgroups(subset='test', remove=remove)\n",
        "\n",
        "texts = train.data + test.data"
      ],
      "metadata": {
        "id": "f6rYW9cQgFO_"
      },
      "execution_count": 4,
      "outputs": []
    },
    {
      "cell_type": "code",
      "source": [
        "tm = ktrain.text.get_topic_model(texts, n_features=10000)"
      ],
      "metadata": {
        "colab": {
          "base_uri": "https://localhost:8080/"
        },
        "id": "SCYvdXPhgTPm",
        "outputId": "d51e7e5f-1265-41f5-e5a7-81e6e6e9a1c7"
      },
      "execution_count": 5,
      "outputs": [
        {
          "output_type": "stream",
          "name": "stdout",
          "text": [
            "n_topics automatically set to 97\n",
            "lang: en\n",
            "preprocessing texts...\n",
            "fitting model...\n",
            "iteration: 1 of max_iter: 5\n",
            "iteration: 2 of max_iter: 5\n",
            "iteration: 3 of max_iter: 5\n",
            "iteration: 4 of max_iter: 5\n",
            "iteration: 5 of max_iter: 5\n",
            "done.\n"
          ]
        }
      ]
    },
    {
      "cell_type": "code",
      "source": [
        "tm.build(texts, threshold=0.25)"
      ],
      "metadata": {
        "colab": {
          "base_uri": "https://localhost:8080/"
        },
        "id": "-zOX2AdpgYBO",
        "outputId": "a04b2149-9f16-47e7-d169-43ee66ece0d6"
      },
      "execution_count": 6,
      "outputs": [
        {
          "output_type": "stream",
          "name": "stdout",
          "text": [
            "done.\n"
          ]
        }
      ]
    },
    {
      "cell_type": "code",
      "source": [
        "tm.train_recommender()"
      ],
      "metadata": {
        "id": "0R6Z6zYbgagy"
      },
      "execution_count": 7,
      "outputs": []
    },
    {
      "cell_type": "code",
      "source": [
        "rawtext = \"\"\"\n",
        " On Monday, May 17, at 1:10 p.m. EDT, NASA astronaut Megan McArthur will answer prerecorded video questions from students across the greater Houston area coordinated by the Ismaili Council for the Southwestern United States. Participating students are from the Aldine, Alief, Fort Bend, Houston, and Stafford school districts, as well as the private Awty International, Etoile Academy, The Honor Roll, and The Village Schools. Houston Mayor Sylvester Turner will offer prerecorded opening remarks. Media interested in covering it should contact Alim Adatia at: 832-605-5296 or aadatia@gmail.com.\n",
        " \"\"\""
      ],
      "metadata": {
        "id": "sNiXNDWdgbvc"
      },
      "execution_count": 8,
      "outputs": []
    },
    {
      "cell_type": "code",
      "source": [
        "tm.recommend(text=rawtext, n=5)"
      ],
      "metadata": {
        "colab": {
          "base_uri": "https://localhost:8080/"
        },
        "id": "Mn8Bj0gdgdBi",
        "outputId": "124367be-e280-41ab-8c66-8aeba45a5d79"
      },
      "execution_count": 9,
      "outputs": [
        {
          "output_type": "execute_result",
          "data": {
            "text/plain": [
              "[{'doc_id': 288,\n",
              "  'text': 'Is there anyone out there running a Chicago National\\n\\tLeague Ballclub list?  If so, please send me information\\n\\ton it to...\\n\\t\\t\\tandrew@aardvark.ucs.uoknor.edu\\n\\n\\tThanks!',\n",
              "  'topic_id': 29,\n",
              "  'topic_proba': 0.3317774094940722},\n",
              " {'doc_id': 598,\n",
              "  'text': '\\nRefer to patents by JAMES HARRIS ROGERS:\\n958,829; 1,220,005; 1,322,622; 1,349,103; 1,315,862; 1,349,104;\\n1,303,729; 1,303,730; 1,316,188\\n\\nHe details methods of underground and underwater wireless communications.\\nFor a review, refer to _Electrical_Experimenter_, March 1919 and June 1919.\\n\\nRogers\\' methods were used extensively during the World War, and was\\nunclassified after the war. Supposedly, the government rethought this\\nsoon after, and Rogers was convieniently forgotten.\\n\\nThe bottom line is that all antennas that are grounded send HALF of\\ntheir signal THRU the ground. The half that travels thru space is\\nquickly dissapated (by the square of the distance), but that which\\ntravels thru the ground does not disapate at all. Furthermore,\\nthe published data showed that when noise drowned out regular\\nreception, the underground antennas would recieve virtually noise-free.\\n\\nIF you find this hard to believe, then refer to the work of the\\nman who INVENTED wireless: Tesla. Tesla confirmed that Rogers\\' methods\\nwere correct, while Hertzian wave theory was completely \"abberant\".\\n\\n----\\n ET   \"Tesla was 100 years ahead of his time. Perhaps now his time comes.\"',\n",
              "  'topic_id': 29,\n",
              "  'topic_proba': 0.32971886110780857},\n",
              " {'doc_id': 694,\n",
              "  'text': 'The following press release was distributed April 1 by\\nNASA Headquarters.\\n\\nSpace Station Redesign Advisory Members Named\\n\\nAlong with Dr. Charles M. Vest, recently named by Vice President\\nAlbert Gore to head the advisory committee on the redesign of the\\nSpace Station, NASA has announced the names of representatives\\nfrom government and industry and academic experts from across the\\ncountry to participate in an independent review of the redesign\\noptions being developed by NASA.\\n\\n\"I am extremely honored to have been selected to lead this\\nimportant review panel. America\\'s future in science and\\ntechnology and as a world leader in space demands our utmost\\nattention and care,\" said Vest. \"We have assembled a diverse\\npanel of experts that, I believe, will bring the appropriate\\nmeasures of insight, integrity and objectivity to this critical\\ntask.\"\\n\\nThe advisory committee is charged with independently assessing\\nvarious redesign options of the space station presented by NASA\\'s\\nredesign team, and proposing recommendations to improve\\nefficiency and effectiveness of the space station program. Space\\nstation international partners also are being asked to \\nparticipate and will be named at a later date. The advisory\\ncommittee will submit its recommendations in June.\\n\\nAdvisory committee members named today include:\\n\\nDr. Charles Vest              Dr. Bobby Alford\\nPresident, MIT                Executive VP & Dean of Medicine\\n                              Baylor College of Medicine\\n\\nMr. Jay Chabrow               Dr. Paul Chu\\nPresident, JMR Associates     Director, Texas Center for\\n                              Superconductivity\\n                              University of Houston\\n\\nDr. Ed Crawley                Dr. John Fabian\\nProf of Aero & Astro          President & CEO\\nMIT                           ANSER\\n\\nMaj. Gen. James Fain          Dr. Edward Fort\\nDeputy Chief of Staff for     Chancellor\\nRequirements; Headquarters    North Carolina AT&T\\nUSAF Materials Command        State University\\n\\nDr. Mary Good                 Mr. Frederick Hauck\\nSenior VP of Technology       President, International Technical\\nAllied Signal, Inc.           Underwriters\\n\\nDr. Lou Lanzerotti            Mr. William Lilly\\nChair, Space Sciences         National Academy of Public\\nBoard, National Research      Administration\\nCouncil\\n\\nMr. Duane McRuer              Dr. Brad Parkinson\\nPresident Systems Technology  Prof of Astro & Aero\\n                              Stanford University\\n\\nDr. Robert Seamans            Dr. Lee Silver\\nFormer NASA Deputy Admin.     W.M. Keck Foundation Professor\\n                              for Resource Geology\\n                              California Institute of\\n                              Technology',\n",
              "  'topic_id': 29,\n",
              "  'topic_proba': 0.42972171303818013},\n",
              " {'doc_id': 724,\n",
              "  'text': 'To: Dodge Dart collectors\\n\\nI have a 1964 Dodge (25th anniversary) Dart 273ci V8 wagon to turn into cash.\\nMy asking price is $300.00 although we can negotiate.  The car currently\\nresides in Union City, California.  Thats on the east side of the San Francisco\\nBay Area in the state of California of the United states of America on the\\ncontinent of North America of the planet Earth, third planetary body out from\\nSol, a mid range yellowish star in the Western Spiral Arm of the Milkyway\\nGalaxy.\\n\\ntoowhit: north of Silicon Valley\\n\\nif interested pleas contact Scott by the following means:\\n        internet                sbrogii@tymnet.com\\n        home answering machine  510.489.6165\\n        business voice mail     408.922.6547\\n        loud yell & wave money out the window\\n                        ^(not recommended in downtown urban environment)',\n",
              "  'topic_id': 29,\n",
              "  'topic_proba': 0.2980012876108355},\n",
              " {'doc_id': 874,\n",
              "  'text': \"Eric, send me email with your address, I lost it! I've reconsidered!\",\n",
              "  'topic_id': 29,\n",
              "  'topic_proba': 0.3203815894362531}]"
            ]
          },
          "metadata": {},
          "execution_count": 9
        }
      ]
    },
    {
      "cell_type": "code",
      "source": [
        "for i, doc in enumerate(tm.recommend(text=rawtext, n=5)):\n",
        "  print('Result #%s'% (i+1))\n",
        "  print('Text \\n')\n",
        "  print(\" \".join(doc['text'].split()[:500]))\n",
        "  print()"
      ],
      "metadata": {
        "colab": {
          "base_uri": "https://localhost:8080/"
        },
        "id": "7IqvpdBigeFI",
        "outputId": "a1ea2d88-adea-44dc-9006-e2da950e5a16"
      },
      "execution_count": 10,
      "outputs": [
        {
          "output_type": "stream",
          "name": "stdout",
          "text": [
            "Result #1\n",
            "Text \n",
            "\n",
            "Is there anyone out there running a Chicago National League Ballclub list? If so, please send me information on it to... andrew@aardvark.ucs.uoknor.edu Thanks!\n",
            "\n",
            "Result #2\n",
            "Text \n",
            "\n",
            "Refer to patents by JAMES HARRIS ROGERS: 958,829; 1,220,005; 1,322,622; 1,349,103; 1,315,862; 1,349,104; 1,303,729; 1,303,730; 1,316,188 He details methods of underground and underwater wireless communications. For a review, refer to _Electrical_Experimenter_, March 1919 and June 1919. Rogers' methods were used extensively during the World War, and was unclassified after the war. Supposedly, the government rethought this soon after, and Rogers was convieniently forgotten. The bottom line is that all antennas that are grounded send HALF of their signal THRU the ground. The half that travels thru space is quickly dissapated (by the square of the distance), but that which travels thru the ground does not disapate at all. Furthermore, the published data showed that when noise drowned out regular reception, the underground antennas would recieve virtually noise-free. IF you find this hard to believe, then refer to the work of the man who INVENTED wireless: Tesla. Tesla confirmed that Rogers' methods were correct, while Hertzian wave theory was completely \"abberant\". ---- ET \"Tesla was 100 years ahead of his time. Perhaps now his time comes.\"\n",
            "\n",
            "Result #3\n",
            "Text \n",
            "\n",
            "The following press release was distributed April 1 by NASA Headquarters. Space Station Redesign Advisory Members Named Along with Dr. Charles M. Vest, recently named by Vice President Albert Gore to head the advisory committee on the redesign of the Space Station, NASA has announced the names of representatives from government and industry and academic experts from across the country to participate in an independent review of the redesign options being developed by NASA. \"I am extremely honored to have been selected to lead this important review panel. America's future in science and technology and as a world leader in space demands our utmost attention and care,\" said Vest. \"We have assembled a diverse panel of experts that, I believe, will bring the appropriate measures of insight, integrity and objectivity to this critical task.\" The advisory committee is charged with independently assessing various redesign options of the space station presented by NASA's redesign team, and proposing recommendations to improve efficiency and effectiveness of the space station program. Space station international partners also are being asked to participate and will be named at a later date. The advisory committee will submit its recommendations in June. Advisory committee members named today include: Dr. Charles Vest Dr. Bobby Alford President, MIT Executive VP & Dean of Medicine Baylor College of Medicine Mr. Jay Chabrow Dr. Paul Chu President, JMR Associates Director, Texas Center for Superconductivity University of Houston Dr. Ed Crawley Dr. John Fabian Prof of Aero & Astro President & CEO MIT ANSER Maj. Gen. James Fain Dr. Edward Fort Deputy Chief of Staff for Chancellor Requirements; Headquarters North Carolina AT&T USAF Materials Command State University Dr. Mary Good Mr. Frederick Hauck Senior VP of Technology President, International Technical Allied Signal, Inc. Underwriters Dr. Lou Lanzerotti Mr. William Lilly Chair, Space Sciences National Academy of Public Board, National Research Administration Council Mr. Duane McRuer Dr. Brad Parkinson President Systems Technology Prof of Astro & Aero Stanford University Dr. Robert Seamans Dr. Lee Silver Former NASA Deputy Admin. W.M. Keck Foundation Professor for Resource Geology California Institute of Technology\n",
            "\n",
            "Result #4\n",
            "Text \n",
            "\n",
            "To: Dodge Dart collectors I have a 1964 Dodge (25th anniversary) Dart 273ci V8 wagon to turn into cash. My asking price is $300.00 although we can negotiate. The car currently resides in Union City, California. Thats on the east side of the San Francisco Bay Area in the state of California of the United states of America on the continent of North America of the planet Earth, third planetary body out from Sol, a mid range yellowish star in the Western Spiral Arm of the Milkyway Galaxy. toowhit: north of Silicon Valley if interested pleas contact Scott by the following means: internet sbrogii@tymnet.com home answering machine 510.489.6165 business voice mail 408.922.6547 loud yell & wave money out the window ^(not recommended in downtown urban environment)\n",
            "\n",
            "Result #5\n",
            "Text \n",
            "\n",
            "Eric, send me email with your address, I lost it! I've reconsidered!\n",
            "\n"
          ]
        }
      ]
    },
    {
      "cell_type": "code",
      "source": [
        ""
      ],
      "metadata": {
        "id": "O5bf6ei6ggoY"
      },
      "execution_count": null,
      "outputs": []
    }
  ]
}